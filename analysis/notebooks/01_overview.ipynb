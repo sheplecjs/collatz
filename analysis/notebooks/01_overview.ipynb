{
 "cells": [
  {
   "cell_type": "code",
   "execution_count": 11,
   "id": "978b5028-c32f-41df-b874-dcdc601ed258",
   "metadata": {},
   "outputs": [],
   "source": [
    "import sqlalchemy\n",
    "import pandas as pd"
   ]
  },
  {
   "cell_type": "code",
   "execution_count": 12,
   "id": "b90e13f9-f2c3-4538-acf6-a7d2567cf002",
   "metadata": {
    "tags": []
   },
   "outputs": [],
   "source": [
    "engine: sqlalchemy.engine.base.Engine = sqlalchemy.create_engine(\"postgresql+psycopg2://postgres@db/postgres\")"
   ]
  },
  {
   "cell_type": "code",
   "execution_count": 13,
   "id": "83d3ecde-1f66-4db2-855c-b07574c22327",
   "metadata": {
    "tags": []
   },
   "outputs": [
    {
     "name": "stdout",
     "output_type": "stream",
     "text": [
      "[(3393729, Decimal('144.9519640489856438'))]\n"
     ]
    }
   ],
   "source": [
    "stats_query: str = \"\"\"\n",
    "                   select\n",
    "                   count(*) as \"records\",\n",
    "                   avg(Steps::int) as \"avg steps\"\n",
    "                   from\n",
    "                   collatz\n",
    "                   \"\"\"\n",
    "\n",
    "with engine.connect() as conn:\n",
    "    stats = conn.execute(sqlalchemy.text(stats))\n",
    "    print(stats.all())"
   ]
  },
  {
   "cell_type": "code",
   "execution_count": 14,
   "id": "b65709d3-4d86-46c1-aa36-590212626e8a",
   "metadata": {
    "tags": []
   },
   "outputs": [
    {
     "data": {
      "text/html": [
       "<div>\n",
       "<style scoped>\n",
       "    .dataframe tbody tr th:only-of-type {\n",
       "        vertical-align: middle;\n",
       "    }\n",
       "\n",
       "    .dataframe tbody tr th {\n",
       "        vertical-align: top;\n",
       "    }\n",
       "\n",
       "    .dataframe thead th {\n",
       "        text-align: right;\n",
       "    }\n",
       "</style>\n",
       "<table border=\"1\" class=\"dataframe\">\n",
       "  <thead>\n",
       "    <tr style=\"text-align: right;\">\n",
       "      <th></th>\n",
       "      <th>number</th>\n",
       "      <th>steps</th>\n",
       "    </tr>\n",
       "  </thead>\n",
       "  <tbody>\n",
       "    <tr>\n",
       "      <th>0</th>\n",
       "      <td>1</td>\n",
       "      <td>1</td>\n",
       "    </tr>\n",
       "    <tr>\n",
       "      <th>1</th>\n",
       "      <td>2</td>\n",
       "      <td>2</td>\n",
       "    </tr>\n",
       "    <tr>\n",
       "      <th>2</th>\n",
       "      <td>3</td>\n",
       "      <td>8</td>\n",
       "    </tr>\n",
       "    <tr>\n",
       "      <th>3</th>\n",
       "      <td>4</td>\n",
       "      <td>3</td>\n",
       "    </tr>\n",
       "    <tr>\n",
       "      <th>4</th>\n",
       "      <td>5</td>\n",
       "      <td>6</td>\n",
       "    </tr>\n",
       "  </tbody>\n",
       "</table>\n",
       "</div>"
      ],
      "text/plain": [
       "   number  steps\n",
       "0       1      1\n",
       "1       2      2\n",
       "2       3      8\n",
       "3       4      3\n",
       "4       5      6"
      ]
     },
     "execution_count": 14,
     "metadata": {},
     "output_type": "execute_result"
    }
   ],
   "source": [
    "all_query: str = \"\"\"\n",
    "                 select\n",
    "                 Number::int,\n",
    "                 Steps::int\n",
    "                 from\n",
    "                 collatz\n",
    "                 \"\"\"\n",
    "\n",
    "with engine.connect() as conn:\n",
    "    all_results = conn.execute(sqlalchemy.text(all_query))\n",
    "    \n",
    "collatz_df: pd.DataFrame = pd.DataFrame(all_results.all())\n",
    "collatz_df.head()"
   ]
  },
  {
   "cell_type": "code",
   "execution_count": 18,
   "id": "de9a5c27-cd88-48e0-83ae-198efca53396",
   "metadata": {
    "tags": []
   },
   "outputs": [
    {
     "data": {
      "text/plain": [
       "<Axes: >"
      ]
     },
     "execution_count": 18,
     "metadata": {},
     "output_type": "execute_result"
    },
    {
     "data": {
      "image/png": "[encoded data removed]",
      "text/plain": [
       "<Figure size 640x480 with 1 Axes>"
      ]
     },
     "metadata": {},
     "output_type": "display_data"
    }
   ],
   "source": [
    "collatz_df[\"steps\"].plot()"
   ]
  },
  {
   "cell_type": "code",
   "execution_count": null,
   "id": "8a12824b-9a13-4332-a396-2165d63a5286",
   "metadata": {},
   "outputs": [],
   "source": []
  }
 ],
 "metadata": {
  "kernelspec": {
   "display_name": "Python 3 (ipykernel)",
   "language": "python",
   "name": "python3"
  },
  "language_info": {
   "codemirror_mode": {
    "name": "ipython",
    "version": 3
   },
   "file_extension": ".py",
   "mimetype": "text/x-python",
   "name": "python",
   "nbconvert_exporter": "python",
   "pygments_lexer": "ipython3",
   "version": "3.10.10"
  }
 },
 "nbformat": 4,
 "nbformat_minor": 5
}
